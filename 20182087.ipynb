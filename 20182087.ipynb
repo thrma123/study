{
  "nbformat": 4,
  "nbformat_minor": 0,
  "metadata": {
    "colab": {
      "provenance": []
    },
    "kernelspec": {
      "name": "python3",
      "display_name": "Python 3"
    },
    "language_info": {
      "name": "python"
    }
  },
  "cells": [
    {
      "cell_type": "code",
      "execution_count": 9,
      "metadata": {
        "colab": {
          "base_uri": "https://localhost:8080/"
        },
        "id": "p7szWnqnmekb",
        "outputId": "8dc09cd8-38e8-48f2-d270-9bb7b4f669ff"
      },
      "outputs": [
        {
          "output_type": "stream",
          "name": "stdout",
          "text": [
            "6.1\n",
            "0    32\n",
            "1    13\n",
            "2    68\n",
            "3    51\n",
            "4    13\n",
            "dtype: int64\n",
            "\n",
            "num_series의 최대값 68\n",
            "num_series의 최소값 13\n",
            "num_series의 평균값 35.4\n"
          ]
        }
      ],
      "source": [
        "import numpy as np\n",
        "import pandas as pd\n",
        "\n",
        "np.random.seed(85) \n",
        "a = np.random.randint(0,100,size =5)\n",
        "num_series = pd.Series(a)\n",
        "print(num_series)\n",
        "\n",
        "print(\"\\nnum_series의 최대값\" ,max(num_series))\n",
        "print(\"num_series의 최소값\" ,min(num_series))\n",
        "print(\"num_series의 평균값\" ,np.mean(num_series))\n",
        "\n"
      ]
    },
    {
      "cell_type": "code",
      "source": [
        "import numpy as np\n",
        "import pandas as pd\n",
        "\n",
        "path = 'https://github.com/dongupak/DataML/raw/main/csv/'\n",
        "weather_f = path + 'weather.csv'\n",
        "weather = pd.read_csv(weather_f,index_col = 0, encoding = 'CP949')\n",
        "df = weather_f\n",
        "print(weather.head(3))\n",
        "print(weather.tail(3))\n",
        "print()\n",
        "\n",
        "w1 =weather.loc['2015-06-06']\n",
        "print(w1)\n",
        "#df.loc('2015-06-06')\n",
        "#df_2022 = weather_f[weather_f[\"일시\"] == '2020-01-01']\n",
        "\n",
        "print()\n",
        "weather_max = weather[weather['평균기온']==weather['평균기온'].max()]\n",
        "print(weather_max)\n",
        "\n",
        "print()\n",
        "weather_30 = weather[weather['평균기온']>= 30]\n",
        "print(weather_30)\n"
      ],
      "metadata": {
        "colab": {
          "base_uri": "https://localhost:8080/"
        },
        "id": "MwHaa0j59f-p",
        "outputId": "6fbd465d-9b70-475f-9839-5ea63e337bde"
      },
      "execution_count": 10,
      "outputs": [
        {
          "output_type": "stream",
          "name": "stdout",
          "text": [
            "            평균기온  최대풍속  평균풍속\n",
            "일시                          \n",
            "2010-08-01  28.7   8.3   3.4\n",
            "2010-08-02  25.2   8.7   3.8\n",
            "2010-08-03  22.1   6.3   2.9\n",
            "            평균기온  최대풍속  평균풍속\n",
            "일시                          \n",
            "2020-07-29  21.6   3.2   1.0\n",
            "2020-07-30  22.9   9.7   2.4\n",
            "2020-07-31  25.7   4.8   2.5\n",
            "\n",
            "평균기온    16.6\n",
            "최대풍속     4.4\n",
            "평균풍속     1.9\n",
            "Name: 2015-06-06, dtype: float64\n",
            "\n",
            "            평균기온  최대풍속  평균풍속\n",
            "일시                          \n",
            "2013-08-08  31.3   7.8   4.6\n",
            "\n",
            "            평균기온  최대풍속  평균풍속\n",
            "일시                          \n",
            "2013-08-08  31.3   7.8   4.6\n",
            "2013-08-09  30.6   9.9   6.4\n",
            "2013-08-10  30.6   7.4   3.8\n",
            "2018-07-23  30.5   6.5   1.6\n",
            "2018-08-04  30.3   5.8   3.0\n"
          ]
        }
      ]
    },
    {
      "cell_type": "code",
      "source": [
        "import numpy as np\n",
        "import pandas as pd\n",
        "\n",
        "A = pd.Series(['A0', 'A1', 'A2'])\n",
        "B = pd.Series(['B0', 'B1', 'B2'])\n",
        "C = pd.Series(['C0', 'C1', 'C2'])\n",
        "D = pd.Series(['D0', 'D1', 'D2'])\n",
        "\n",
        "B_2 = pd.Series(['B2', 'B3'])\n",
        "C_2 = pd.Series(['C2', 'C3'])\n",
        "D_2 = pd.Series(['D2', 'D3'])\n",
        "E_2 = pd.Series(['E2', 'E3'])\n",
        "\n",
        "df_1 = pd.DataFrame({'A': A, 'B': B ,'C':C, 'D':D},index = [0,1,2])\n",
        "df_2 = pd.DataFrame({'B': B_2, 'C': C_2 ,'D':D_2, 'E':E_2},index = [0,1])\n",
        "print(df_1,'\\n')\n",
        "print(df_2)\n",
        "\n",
        "df_3 = pd.concat([df_1,df_2])\n",
        "print('\\n',df_3)\n",
        "\n",
        "df_4 = pd.concat([df_1,df_2],axis =1,join = 'inner')\n",
        "print('\\n',df_4)\n"
      ],
      "metadata": {
        "colab": {
          "base_uri": "https://localhost:8080/"
        },
        "id": "XdGFJzIgRYyf",
        "outputId": "347c6055-5e17-4cf0-abcc-8bc6a52cadf5"
      },
      "execution_count": 30,
      "outputs": [
        {
          "output_type": "stream",
          "name": "stdout",
          "text": [
            "    A   B   C   D\n",
            "0  A0  B0  C0  D0\n",
            "1  A1  B1  C1  D1\n",
            "2  A2  B2  C2  D2 \n",
            "\n",
            "    B   C   D   E\n",
            "0  B2  C2  D2  E2\n",
            "1  B3  C3  D3  E3\n",
            "\n",
            "      A   B   C   D    E\n",
            "0   A0  B0  C0  D0  NaN\n",
            "1   A1  B1  C1  D1  NaN\n",
            "2   A2  B2  C2  D2  NaN\n",
            "0  NaN  B2  C2  D2   E2\n",
            "1  NaN  B3  C3  D3   E3\n",
            "\n",
            "     A   B   C   D   B   C   D   E\n",
            "0  A0  B0  C0  D0  B2  C2  D2  E2\n",
            "1  A1  B1  C1  D1  B3  C3  D3  E3\n"
          ]
        }
      ]
    }
  ]
}